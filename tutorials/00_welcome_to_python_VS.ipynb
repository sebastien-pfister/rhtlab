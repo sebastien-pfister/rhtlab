{
 "cells": [
  {
   "cell_type": "markdown",
   "metadata": {},
   "source": [
    "**My First Python Demo Notebook – A Simple Tutorial**\n",
    "\n",
    "_Description is coming soon..._\n",
    "\n",
    "<details>\n",
    "\n",
    "<summary>Table of content</summary>\n",
    "\n",
    "# Notebook content\n",
    "\n",
    "- [I: Some basic commands to get ready](#some-basic-commands-to-get-ready)\n",
    "- [II: Feeding my dataframe with new data](#title)\n",
    "- [III: Energy consumption and power profile](#title)\n",
    "- [IV: Some references to go further](#title)\n",
    "- I : Visual Studio code\n",
    "- II : JupyterNotebook\n",
    "- III : Python\n",
    "- IV : Variable type\n",
    "- V : NumPy and Pandas\n",
    "- VI : Data from csv\n",
    "- VII : Manipulation of dataframe\n",
    "- VIII : Plot of dataframe\n",
    "- IX : Pandapower\n",
    "\n",
    "</details>\n",
    "\n",
    "---\n",
    "\n",
    "<details>\n",
    "\n",
    "<summary>TODO</summary>\n",
    "\n",
    "## Ideas for this tutorial\n",
    "\n",
    "- [ ] Trying to get more data on energy consumption.\n",
    "- [ ] Obtain primary or secondary energy consumption per capita.\n",
    "- [ ] Do the same exercise with electricity consumption per capita.\n",
    "- [ ] Compare growth with energy efficiency.\n",
    "- [ ] Add a comparison between pandas and numpy [pd/np](https://www.geeksforgeeks.org/difference-between-pandas-vs-numpy/)\n",
    "- [ ] Understand Dictionnary of dataframe exemple [Dictionnary of dataframe](#Dictionnary-of-dataframe) at this link [dict_of_df](https://www.educative.io/answers/how-to-create-a-dictionary-of-data-frames-in-python)\n",
    "- [ ] Modifying the Dictionnary of dataframe to correspond pandapower exercise\n",
    "- [ ] Details on variable type need to be completed\n",
    "\n",
    "</details>\n",
    "\n",
    "---"
   ]
  },
  {
   "cell_type": "markdown",
   "metadata": {},
   "source": [
    "# VS code\n"
   ]
  },
  {
   "cell_type": "markdown",
   "metadata": {},
   "source": [
    "\n",
    "File -> Activate Autosave\n",
    "\n",
    "Launch via terminal, nice to open project.\n",
    "\n",
    "Some features : \n",
    "- Dark mode or other\n",
    "- Friendly git command\n",
    "  - Git [nomenclature](https://www.conventionalcommits.org/en/v1.0.0/)\n",
    "- Github Copilot\n",
    "- Extension"
   ]
  },
  {
   "cell_type": "markdown",
   "metadata": {},
   "source": [
    "# JupyterNotebook"
   ]
  },
  {
   "cell_type": "markdown",
   "metadata": {},
   "source": [
    "All the [basics](00_welcome_to_jupyter.ipynb) about JupyterNotebook.\n",
    "- What is it ?\n",
    "- Step by step execution\n",
    "- How memory work\n",
    "- Variable explorer\n",
    "- Export"
   ]
  },
  {
   "cell_type": "markdown",
   "metadata": {},
   "source": [
    "\n",
    "Here you have the [Basic writing and formatting syntax](https://docs.github.com/en/get-started/writing-on-github/getting-started-with-writing-and-formatting-on-github/basic-writing-and-formatting-syntax) for markdown.\n",
    "\n",
    "Few usefull shortcut :\n",
    "- `y` and `m` to toggle between markdown and python cells.\n",
    "- `Ctrl+Enter` to run cells\n",
    "- `Shift+Enter` to run and advance in next cells\n",
    "\n",
    "And text higligh : \n",
    " - ``---`` - Line througth the page\n",
    " - `>` - Text box\n",
    " - \\`Text\\` - Quoting code like ``this``\n",
    " - And triple for multiple line \\`\\`\\` ``code`` \\`\\`\\`"
   ]
  },
  {
   "cell_type": "markdown",
   "metadata": {},
   "source": [
    "# Some basics to get ready\n"
   ]
  },
  {
   "cell_type": "markdown",
   "metadata": {},
   "source": [
    "At the first, we are not informatician, the hygiene is important for your code : commenting, good variable name,...\n",
    "\n",
    "But if that works... ;)\n",
    "\n",
    "Here a complete guide about hygiene coding tips : [hygiene_tips](https://testdriven.io/blog/clean-code-python/), I recommend you to read the _PEP 8_ part.\n",
    "\n",
    "For solving a problem, you have many solution and that the same with Python, so we will give you one solution (sometimes more) and that can be the best solution, or not. \n",
    "\n",
    "So be free as a bird and make your own experience. :bird:"
   ]
  },
  {
   "cell_type": "markdown",
   "metadata": {},
   "source": [
    "### Python\n"
   ]
  },
  {
   "cell_type": "markdown",
   "metadata": {},
   "source": [
    "\n",
    "Python is an object oriented programming language and this mean that almost everything is an object with own properties and methods.\n",
    "\n",
    "And we create object with the constructure (like blueprint) called Class.\n",
    "\n",
    "And each object can have function inside, thats called method."
   ]
  },
  {
   "cell_type": "markdown",
   "metadata": {},
   "source": [
    "## Help once the package has been imported\n"
   ]
  },
  {
   "cell_type": "markdown",
   "metadata": {},
   "source": [
    "Python works with package, this is all the code already developped that we can use, we don't want (and can't) recode anything every times.\n",
    "\n",
    "Package exit to do lots of thinks : statistical analysis, data visualization, etc.\n",
    "\n",
    "In this tuto we'll import the following packages :\n",
    "- *numpy* and *pandas* for data analysis and manipulation\n",
    "- *plotly* for data visualization\n",
    "- (*os* is used to change working directories, but you don't need it)"
   ]
  },
  {
   "cell_type": "code",
   "execution_count": null,
   "metadata": {},
   "outputs": [],
   "source": [
    "import os\n",
    "import numpy as np\n",
    "import pandas as pd\n",
    "import plotly.express as px # pas forcément besoin plus tard\n",
    "from plotly.subplots import make_subplots # pas forcément besoin plus tard"
   ]
  },
  {
   "cell_type": "markdown",
   "metadata": {},
   "source": [
    "For needed information on a function tape : _?function_name_"
   ]
  },
  {
   "cell_type": "code",
   "execution_count": 80,
   "metadata": {},
   "outputs": [
    {
     "name": "stdout",
     "output_type": "stream",
     "text": [
      "\u001b[0;31mDocstring:\u001b[0m\n",
      "print(value, ..., sep=' ', end='\\n', file=sys.stdout, flush=False)\n",
      "\n",
      "Prints the values to a stream, or to sys.stdout by default.\n",
      "Optional keyword arguments:\n",
      "file:  a file-like object (stream); defaults to the current sys.stdout.\n",
      "sep:   string inserted between values, default a space.\n",
      "end:   string appended after the last value, default a newline.\n",
      "flush: whether to forcibly flush the stream.\n",
      "\u001b[0;31mType:\u001b[0m      builtin_function_or_method"
     ]
    }
   ],
   "source": [
    "?print"
   ]
  },
  {
   "cell_type": "markdown",
   "metadata": {},
   "source": [
    "## Basics Data Structures and Sequences : Variable type"
   ]
  },
  {
   "cell_type": "markdown",
   "metadata": {},
   "source": [
    "The information is stocked in variable, the information can take multiple forms, numeric, string, etc., the next table resume the data type and how to construct it.\n",
    "|                  | Data Type  | Example                                              |\n",
    "|------------------|------------|------------------------------------------------------|\n",
    "| _Text Type_      | str        | `\"Hello World\"`                                      |\n",
    "| _Numeric Types_  | int        | 50                                                   |\n",
    "|                  | float      | 50.5                                                 |\n",
    "|                  | complex    | 10j                                                  |\n",
    "| _Sequence Types_ | list       | `[\"resistance\", \"admittance\", \"impedance\"]`          |\n",
    "|                  | tuple      | `(\"resistance\", \"admittance\",\"impedance\")`           |\n",
    "|                  | range      | `range(8)`                                           |\n",
    "| _Mapping Type_   | dict       | `{\"Element\": \"Generator\", \"Power\" : 100}`            |\n",
    "| _Boolean Type_   | bool       | True, False                                          |\n",
    "\n",
    "On this [link](https://wesmckinney.com/book/python-builtin#tut_data_structures), you have more information about the datastructure."
   ]
  },
  {
   "cell_type": "markdown",
   "metadata": {},
   "source": [
    "<details>\n",
    "<summary>Details on variable type</summary>\n",
    "\n",
    "- **Integers** are whole numbers, negative and positive.\n",
    "- **Floats** are real numbers or numbers with a decimal point.\n",
    "- **Strings** are sequences of characters.\n",
    "- **Booleans** are True or False  (1 or 0).\n",
    "- **Tuples** are ordered, immutable collections of values.\n",
    "- **dictionaries** is unordered collection of data in a key: value pair form\n",
    "- **Lists** are ordered, mutable collections of values.\n",
    "\n",
    "\n",
    "</details>"
   ]
  },
  {
   "cell_type": "markdown",
   "metadata": {},
   "source": [
    "\n",
    "The program auto define the variable type when we create it.  It's possible to manually specify it (for changing size p.ex.)."
   ]
  },
  {
   "cell_type": "code",
   "execution_count": 81,
   "metadata": {},
   "outputs": [
    {
     "name": "stdout",
     "output_type": "stream",
     "text": [
      "Classe of list_Test:\n",
      " <class 'list'>\n",
      "list_Test contains:\n",
      " [9, 1, 2, 3, 4, 'z', 'x', 'y', 'x']\n"
     ]
    }
   ],
   "source": [
    "# List exemple\n",
    "list_test = [9, 1, 2, 3, 4, \"z\", \"x\", \"y\", \"x\"]\n",
    "print(\"Classe of list_Test:\\n\", type(list_test))\n",
    "print(\"list_Test contains:\\n\", list_test)"
   ]
  },
  {
   "cell_type": "markdown",
   "metadata": {},
   "source": [
    "In a sequence, the elements can be accessed with `[]`.\n",
    "\n",
    "Like C or most of the common programming language, Python index begin at 0, unlike Matlab, who start at 1."
   ]
  },
  {
   "cell_type": "code",
   "execution_count": 82,
   "metadata": {},
   "outputs": [
    {
     "name": "stdout",
     "output_type": "stream",
     "text": [
      "Element 3 in list_Test = 2\n"
     ]
    }
   ],
   "source": [
    "print(\"Element 3 in list_Test =\", list_test[2])"
   ]
  },
  {
   "cell_type": "markdown",
   "metadata": {},
   "source": [
    "List and Tuple are similar, but Tuple is immutable."
   ]
  },
  {
   "cell_type": "code",
   "execution_count": 83,
   "metadata": {},
   "outputs": [
    {
     "name": "stdout",
     "output_type": "stream",
     "text": [
      "Type of tup : <class 'tuple'>\n",
      "Type of list : <class 'list'>\n"
     ]
    }
   ],
   "source": [
    "list_exemple = [\"foo\", [1, 2], True]\n",
    "tup_exemple = (\"foo\", [1, 2], True)\n",
    "print(\"Type of tup :\", type(tup_exemple))\n",
    "print(\"Type of list :\", type(list_exemple))"
   ]
  },
  {
   "cell_type": "code",
   "execution_count": 84,
   "metadata": {},
   "outputs": [],
   "source": [
    "# tup[2] = False"
   ]
  },
  {
   "cell_type": "markdown",
   "metadata": {},
   "source": [
    "To access value inside, the procedure is the same :"
   ]
  },
  {
   "cell_type": "code",
   "execution_count": 85,
   "metadata": {},
   "outputs": [
    {
     "data": {
      "text/plain": [
       "[1, 2]"
      ]
     },
     "execution_count": 85,
     "metadata": {},
     "output_type": "execute_result"
    }
   ],
   "source": [
    "list_exemple[1]"
   ]
  },
  {
   "cell_type": "markdown",
   "metadata": {},
   "source": [
    "To access sub-element :"
   ]
  },
  {
   "cell_type": "code",
   "execution_count": 86,
   "metadata": {},
   "outputs": [
    {
     "data": {
      "text/plain": [
       "2"
      ]
     },
     "execution_count": 86,
     "metadata": {},
     "output_type": "execute_result"
    }
   ],
   "source": [
    "list_exemple[1][1]"
   ]
  },
  {
   "cell_type": "markdown",
   "metadata": {},
   "source": [
    "### Complex number\n",
    "A complex value can be expressed in polar coordinates or rectangular coordinates :\n",
    "\n",
    "![Impedance](plot/impedance.png)"
   ]
  },
  {
   "cell_type": "code",
   "execution_count": 87,
   "metadata": {},
   "outputs": [],
   "source": [
    "# Rectangular\n",
    "R_real = 10\n",
    "X_imag = 5\n",
    "Z = R_real + 1j * X_imag\n",
    "# Polar\n",
    "Tension_Module = 10\n",
    "Phase_Angle = 45\n",
    "U = Tension_Module * np.exp(1j * Phase_Angle)"
   ]
  },
  {
   "cell_type": "markdown",
   "metadata": {},
   "source": [
    "But Python express complex number in rectangular coordinates :"
   ]
  },
  {
   "cell_type": "code",
   "execution_count": 88,
   "metadata": {},
   "outputs": [
    {
     "name": "stdout",
     "output_type": "stream",
     "text": [
      "Impedance =  (10+5j)\n",
      "Tension =  (5.253219888177298+8.509035245341185j)\n"
     ]
    }
   ],
   "source": [
    "print(\"Impedance = \", Z)\n",
    "print(\"Tension = \", U)"
   ]
  },
  {
   "cell_type": "markdown",
   "metadata": {},
   "source": [
    "## Manipulating NumPy array and Pandas dataframe"
   ]
  },
  {
   "cell_type": "markdown",
   "metadata": {},
   "source": [
    "For manipulating data, we can use two packages, they are similar but not exactly the same, here a small explanation of the differences [pd/np](https://www.geeksforgeeks.org/difference-between-pandas-vs-numpy/#:~:text=Difference%20between%20Pandas%20and%20Numpy)\n",
    "\n",
    "Pandas is based on NumPy and is usefull to manipulate data-structures (Tabular data) : numeric data (or not) and time series\n",
    "\n",
    "Numpy is the fundamental library of Python, it provides high-performance multidimensional arrays and tools to work with them, usefull to matrix and vector calculation."
   ]
  },
  {
   "cell_type": "markdown",
   "metadata": {},
   "source": [
    "### Numpy\n",
    "_array_ is like _list_ but faster, from NumPy library (continuous place in memory unlike _list_)\n",
    "\n",
    "Use _list_, _tuple_ or any _array-like_ to construct NumPy array"
   ]
  },
  {
   "cell_type": "code",
   "execution_count": 89,
   "metadata": {},
   "outputs": [
    {
     "name": "stdout",
     "output_type": "stream",
     "text": [
      "3\n",
      "[[[ 1  2  3]\n",
      "  [ 4  5  6]]\n",
      "\n",
      " [[ 7  8  9]\n",
      "  [10 11 12]]\n",
      "\n",
      " [[13 14 15]\n",
      "  [16 17 18]]]\n"
     ]
    }
   ],
   "source": [
    "# Create narray with list and multiple dimension\n",
    "array_list = np.array(\n",
    "    [\n",
    "        [[1, 2, 3], [4, 5, 6]],\n",
    "        [[7, 8, 9], [10, 11, 12]],\n",
    "        [[13, 14, 15], [16, 17, 18]],\n",
    "    ]\n",
    ")\n",
    "print(array_list.ndim)\n",
    "print(array_list)"
   ]
  },
  {
   "cell_type": "code",
   "execution_count": 90,
   "metadata": {},
   "outputs": [
    {
     "data": {
      "text/plain": [
       "array([13, 14, 15])"
      ]
     },
     "execution_count": 90,
     "metadata": {},
     "output_type": "execute_result"
    }
   ],
   "source": [
    "array_list[2][0]"
   ]
  },
  {
   "cell_type": "code",
   "execution_count": 91,
   "metadata": {},
   "outputs": [
    {
     "name": "stdout",
     "output_type": "stream",
     "text": [
      "[1900 1910 1920 1930 1940 1950 1960 1970 1980 1990 2000 2010 2020]\n",
      "3,297,641\n",
      "3,708,897\n",
      "3,870,407\n",
      "4,042,131\n",
      "4,233,223\n",
      "4,692,642\n",
      "5,327,776\n",
      "6,180,925\n",
      "6,319,848\n",
      "6,713,167\n",
      "7,184,003\n",
      "7,825,751\n",
      "8,640,582\n"
     ]
    }
   ],
   "source": [
    "# Time interval\n",
    "years = np.arange(1900, 2021, 10)\n",
    "print(years)\n",
    "\n",
    "# Population data for Switzerland\n",
    "pop = np.array(\n",
    "    [\n",
    "        3297641,\n",
    "        3708897,\n",
    "        3870407,\n",
    "        4042131,\n",
    "        4233223,\n",
    "        4692642,\n",
    "        5327776,\n",
    "        6180925,\n",
    "        6319848,\n",
    "        6713167,\n",
    "        7184003,\n",
    "        7825751,\n",
    "        8640582,\n",
    "    ]\n",
    ")\n",
    "\n",
    "\n",
    "## (just for information)\n",
    "# Convert each number to a string with thousand separators\n",
    "formatted_pop = np.array(list(map(lambda x: f\"{x:,}\", pop)))\n",
    "\n",
    "# Print the formatted population array verticaly\n",
    "print(\"\\n\".join(formatted_pop))"
   ]
  },
  {
   "cell_type": "markdown",
   "metadata": {},
   "source": [
    "Now I would like to visualize the population evolution that will change over time:"
   ]
  },
  {
   "cell_type": "code",
   "execution_count": 92,
   "metadata": {},
   "outputs": [
    {
     "ename": "ValueError",
     "evalue": "Mime type rendering requires nbformat>=4.2.0 but it is not installed",
     "output_type": "error",
     "traceback": [
      "\u001b[0;31m---------------------------------------------------------------------------\u001b[0m",
      "\u001b[0;31mValueError\u001b[0m                                Traceback (most recent call last)",
      "Cell \u001b[0;32mIn[92], line 22\u001b[0m\n\u001b[1;32m     14\u001b[0m fig\u001b[38;5;241m.\u001b[39mupdate_layout(\n\u001b[1;32m     15\u001b[0m     margin\u001b[38;5;241m=\u001b[39m\u001b[38;5;28mdict\u001b[39m(l\u001b[38;5;241m=\u001b[39m\u001b[38;5;241m60\u001b[39m, r\u001b[38;5;241m=\u001b[39m\u001b[38;5;241m60\u001b[39m, t\u001b[38;5;241m=\u001b[39m\u001b[38;5;241m60\u001b[39m, b\u001b[38;5;241m=\u001b[39m\u001b[38;5;241m60\u001b[39m),\n\u001b[1;32m     16\u001b[0m     coloraxis_showscale\u001b[38;5;241m=\u001b[39m\u001b[38;5;28;01mFalse\u001b[39;00m,  \u001b[38;5;66;03m# Remove the color bar\u001b[39;00m\n\u001b[1;32m     17\u001b[0m     width\u001b[38;5;241m=\u001b[39m\u001b[38;5;241m800\u001b[39m,  \u001b[38;5;66;03m# Width of the figure in pixels\u001b[39;00m\n\u001b[1;32m     18\u001b[0m     height\u001b[38;5;241m=\u001b[39m\u001b[38;5;241m500\u001b[39m,  \u001b[38;5;66;03m# Height of the figure in pixels\u001b[39;00m\n\u001b[1;32m     19\u001b[0m )\n\u001b[1;32m     21\u001b[0m \u001b[38;5;66;03m# Show the plot\u001b[39;00m\n\u001b[0;32m---> 22\u001b[0m \u001b[43mfig\u001b[49m\u001b[38;5;241;43m.\u001b[39;49m\u001b[43mshow\u001b[49m\u001b[43m(\u001b[49m\u001b[43m)\u001b[49m\n",
      "File \u001b[0;32m~/rhtlab/.venv/lib/python3.10/site-packages/plotly/basedatatypes.py:3420\u001b[0m, in \u001b[0;36mBaseFigure.show\u001b[0;34m(self, *args, **kwargs)\u001b[0m\n\u001b[1;32m   3387\u001b[0m \u001b[38;5;250m\u001b[39m\u001b[38;5;124;03m\"\"\"\u001b[39;00m\n\u001b[1;32m   3388\u001b[0m \u001b[38;5;124;03mShow a figure using either the default renderer(s) or the renderer(s)\u001b[39;00m\n\u001b[1;32m   3389\u001b[0m \u001b[38;5;124;03mspecified by the renderer argument\u001b[39;00m\n\u001b[0;32m   (...)\u001b[0m\n\u001b[1;32m   3416\u001b[0m \u001b[38;5;124;03mNone\u001b[39;00m\n\u001b[1;32m   3417\u001b[0m \u001b[38;5;124;03m\"\"\"\u001b[39;00m\n\u001b[1;32m   3418\u001b[0m \u001b[38;5;28;01mimport\u001b[39;00m\u001b[38;5;250m \u001b[39m\u001b[38;5;21;01mplotly\u001b[39;00m\u001b[38;5;21;01m.\u001b[39;00m\u001b[38;5;21;01mio\u001b[39;00m\u001b[38;5;250m \u001b[39m\u001b[38;5;28;01mas\u001b[39;00m\u001b[38;5;250m \u001b[39m\u001b[38;5;21;01mpio\u001b[39;00m\n\u001b[0;32m-> 3420\u001b[0m \u001b[38;5;28;01mreturn\u001b[39;00m \u001b[43mpio\u001b[49m\u001b[38;5;241;43m.\u001b[39;49m\u001b[43mshow\u001b[49m\u001b[43m(\u001b[49m\u001b[38;5;28;43mself\u001b[39;49m\u001b[43m,\u001b[49m\u001b[43m \u001b[49m\u001b[38;5;241;43m*\u001b[39;49m\u001b[43margs\u001b[49m\u001b[43m,\u001b[49m\u001b[43m \u001b[49m\u001b[38;5;241;43m*\u001b[39;49m\u001b[38;5;241;43m*\u001b[39;49m\u001b[43mkwargs\u001b[49m\u001b[43m)\u001b[49m\n",
      "File \u001b[0;32m~/rhtlab/.venv/lib/python3.10/site-packages/plotly/io/_renderers.py:415\u001b[0m, in \u001b[0;36mshow\u001b[0;34m(fig, renderer, validate, **kwargs)\u001b[0m\n\u001b[1;32m    410\u001b[0m     \u001b[38;5;28;01mraise\u001b[39;00m \u001b[38;5;167;01mValueError\u001b[39;00m(\n\u001b[1;32m    411\u001b[0m         \u001b[38;5;124m\"\u001b[39m\u001b[38;5;124mMime type rendering requires ipython but it is not installed\u001b[39m\u001b[38;5;124m\"\u001b[39m\n\u001b[1;32m    412\u001b[0m     )\n\u001b[1;32m    414\u001b[0m \u001b[38;5;28;01mif\u001b[39;00m \u001b[38;5;129;01mnot\u001b[39;00m nbformat \u001b[38;5;129;01mor\u001b[39;00m Version(nbformat\u001b[38;5;241m.\u001b[39m__version__) \u001b[38;5;241m<\u001b[39m Version(\u001b[38;5;124m\"\u001b[39m\u001b[38;5;124m4.2.0\u001b[39m\u001b[38;5;124m\"\u001b[39m):\n\u001b[0;32m--> 415\u001b[0m     \u001b[38;5;28;01mraise\u001b[39;00m \u001b[38;5;167;01mValueError\u001b[39;00m(\n\u001b[1;32m    416\u001b[0m         \u001b[38;5;124m\"\u001b[39m\u001b[38;5;124mMime type rendering requires nbformat>=4.2.0 but it is not installed\u001b[39m\u001b[38;5;124m\"\u001b[39m\n\u001b[1;32m    417\u001b[0m     )\n\u001b[1;32m    419\u001b[0m display_jupyter_version_warnings()\n\u001b[1;32m    421\u001b[0m ipython_display\u001b[38;5;241m.\u001b[39mdisplay(bundle, raw\u001b[38;5;241m=\u001b[39m\u001b[38;5;28;01mTrue\u001b[39;00m)\n",
      "\u001b[0;31mValueError\u001b[0m: Mime type rendering requires nbformat>=4.2.0 but it is not installed"
     ]
    }
   ],
   "source": [
    "# Create a DataFrame\n",
    "df = pd.DataFrame({\"Year\": years, \"Population\": pop})\n",
    "\n",
    "# Create a line plot\n",
    "fig = px.line(\n",
    "    df,\n",
    "    x=\"Year\",\n",
    "    y=\"Population\",\n",
    "    title=\"Population Evolution of Switzerland\",\n",
    "    labels={\"Population\": \"Population\", \"Year\": \"Year\"},\n",
    ")\n",
    "\n",
    "# To format and save figures\n",
    "fig.update_layout(\n",
    "    margin=dict(l=60, r=60, t=60, b=60),\n",
    "    coloraxis_showscale=False,  # Remove the color bar\n",
    "    width=800,  # Width of the figure in pixels\n",
    "    height=500,  # Height of the figure in pixels\n",
    ")\n",
    "\n",
    "# Show the plot\n",
    "fig.show()"
   ]
  },
  {
   "cell_type": "markdown",
   "metadata": {},
   "source": [
    "### Dataframe\n",
    "A dataframe (df) contain a dictionary, it's a list of values linked to keys. The size of the df is define by the number of values (row) and keys (columns).\n",
    "\n",
    "When a df is created, an index is autocreate if we don't specify one, it contain a list from 0 to n-1 (n = number of values)."
   ]
  },
  {
   "cell_type": "code",
   "execution_count": null,
   "metadata": {},
   "outputs": [],
   "source": [
    "exemple_of_dictionnary = {\n",
    "    \"key 1\": [1, 2, 3, 4, 5],\n",
    "    \"key 2\": [1, 2, 3, 4, 5],\n",
    "    \"key 3\": 3,\n",
    "    \"key 4\": [\"a\", \"b\", \"c\", \"D\", \"E\"],\n",
    "}\n",
    "pd_exemple = pd.DataFrame(exemple_of_dictionnary)\n",
    "##Add a column\n",
    "pd_exemple[\"year\"] = [\n",
    "    2010,\n",
    "    2011,\n",
    "    2012,\n",
    "    2013,\n",
    "    2014,\n",
    "]\n",
    "\n",
    "##Change a column to index\n",
    "pd_exemple_2 = pd_exemple.set_index(\"year\")"
   ]
  },
  {
   "cell_type": "code",
   "execution_count": null,
   "metadata": {},
   "outputs": [],
   "source": [
    "print(\"Base index :\\n\", pd_exemple)\n",
    "print(\"Custom index :\\n\", pd_exemple_2)"
   ]
  },
  {
   "cell_type": "markdown",
   "metadata": {},
   "source": [
    "> **Note** In a df, each column is a series. A series is a one-dimensional array containing data of any type."
   ]
  },
  {
   "cell_type": "code",
   "execution_count": null,
   "metadata": {},
   "outputs": [],
   "source": [
    "type(pd_exemple[\"year\"])"
   ]
  },
  {
   "cell_type": "markdown",
   "metadata": {},
   "source": [
    "#### Access to dataframe values "
   ]
  },
  {
   "cell_type": "markdown",
   "metadata": {},
   "source": [
    "##### Access to the column value(s) :\n"
   ]
  },
  {
   "cell_type": "markdown",
   "metadata": {},
   "source": [
    "\n",
    "The two methodes :\n",
    "\n",
    "Dot Notation (`.column_name`)\n",
    "- **Syntax**: `dataframe.column_name`\n",
    "- **Usage**: This is a shorthand for accessing columns.\n",
    "- **Limitations**:\n",
    "  - The column name must be a valid Python identifier (e.g., no spaces, special characters, or starting with a number).\n",
    "  - It can lead to ambiguity if the column name conflicts with DataFrame methods or attributes.\n",
    "Bracket Notation (`[\"column_name\"]`)\n",
    "- **Syntax**: `dataframe[\"column_name\"]`\n",
    "- **Usage**: This is the more flexible and recommended way to access columns.\n",
    "- **Advantages**:\n",
    "  - Can handle column names with spaces, special characters, or names that are not valid Python identifiers.\n",
    "  - Avoids conflicts with DataFrame methods or attributes."
   ]
  },
  {
   "cell_type": "markdown",
   "metadata": {},
   "source": [
    "<details>\n",
    "<summary>Name column problem</summary>\n",
    "\n",
    "The method to access a column use the name of the column, and sometimes the name contain space. \n",
    "\n",
    "In this case, the first method can't work, this [link](https://saturncloud.io/blog/how-to-access-pandas-columns-with-spaces-in-column-names/) explain the problem.\n",
    "\n",
    "</details>"
   ]
  },
  {
   "cell_type": "code",
   "execution_count": null,
   "metadata": {},
   "outputs": [],
   "source": [
    "print(\"Access to column:\\n\", pd_exemple[\"key 1\"])\n",
    "print(\"Access to column:\\n\", pd_exemple_2[\"key 1\"])\n",
    "print(\"Access to column other methode:\\n\", pd_exemple.year)\n",
    "print(\"Access to multiple columns:\\n\", pd_exemple[[\"key 1\", \"key 3\"]])"
   ]
  },
  {
   "cell_type": "markdown",
   "metadata": {},
   "source": [
    "##### Access the row value(s) :"
   ]
  },
  {
   "cell_type": "markdown",
   "metadata": {},
   "source": [
    "The `.loc` and `.iloc` methods in Pandas are used for accessing and manipulating data in DataFrames, but they differ in how they select data.\n",
    "\n",
    "- ``.loc``: Use when you want to select data by labels.\n",
    "- `.iloc`: Use when you want to select data by integer positions.\n",
    "\n",
    "To use `loc`, we create a series of boolean value that we passe to the function, this series is construct by the equality operator `==`, we check, p.ex. a column with a value.\n",
    "\n",
    "And for `iloc`, we just pass an integer who correspond to the index position. \n",
    "\n",
    "More selection possibility for [loc](https://pandas.pydata.org/docs/reference/api/pandas.DataFrame.loc.html) and [iloc](https://pandas.pydata.org/docs/reference/api/pandas.DataFrame.iloc.html)."
   ]
  },
  {
   "cell_type": "code",
   "execution_count": null,
   "metadata": {},
   "outputs": [],
   "source": [
    "print(\"Index access to row:\\n\", pd_exemple.loc[0])\n",
    "print(\"Index access to row:\\n\", pd_exemple_2.loc[2010])\n",
    "print(\"Access to specific element\\n\", pd_exemple_2.loc[pd_exemple_2[\"key 4\"] == \"D\"])\n",
    "print(\"Index access to multiple row:\\n\", pd_exemple_2.loc[2010:2012])"
   ]
  },
  {
   "cell_type": "markdown",
   "metadata": {},
   "source": [
    "## Use external data files like csv"
   ]
  },
  {
   "cell_type": "markdown",
   "metadata": {},
   "source": [
    "Now I would like to use the same value but from a csv file, and only save the value from Switzerland, not for all the countries. Also charging the electricity values."
   ]
  },
  {
   "cell_type": "code",
   "execution_count": null,
   "metadata": {},
   "outputs": [],
   "source": [
    "# Go to the good workplace folder\n",
    "# os.chdir(\"..\")\n",
    "os.chdir(os.getcwd().replace(\"/tutorials\", \"\"))\n",
    "print(\"We are here\", os.getcwd())\n",
    "os.chdir(\"tutorials\")\n",
    "print(\"We are here\", os.getcwd())"
   ]
  },
  {
   "cell_type": "code",
   "execution_count": null,
   "metadata": {},
   "outputs": [],
   "source": [
    "# Load data from our world in data\n",
    "\n",
    "df_population = pd.read_csv(\"data/population-and-demography.csv\", sep=\",\")\n",
    "df_electricity_generation = pd.read_csv(\"data/electricity-generation.csv\", sep=\",\")\n",
    "# Take only swiss data = row selection\n",
    "df_swiss_population = df_population.loc[df_population[\"Entity\"] == \"Switzerland\"]\n",
    "df_swiss_electricity_generation = df_electricity_generation.loc[\n",
    "    df_electricity_generation[\"Entity\"] == \"Switzerland\"\n",
    "]"
   ]
  },
  {
   "cell_type": "markdown",
   "metadata": {},
   "source": [
    "The first thing when we create a dataframe from csv file or other sources, is to check the data :"
   ]
  },
  {
   "cell_type": "code",
   "execution_count": null,
   "metadata": {},
   "outputs": [],
   "source": [
    "df_swiss_population.info()"
   ]
  },
  {
   "cell_type": "code",
   "execution_count": null,
   "metadata": {},
   "outputs": [],
   "source": [
    "df_swiss_population"
   ]
  },
  {
   "cell_type": "code",
   "execution_count": null,
   "metadata": {},
   "outputs": [],
   "source": [
    "# Give a friendly name to the population column\n",
    "df_swiss_population = df_swiss_population.rename(\n",
    "    columns={\"Population - Sex: all - Age: all - Variant: estimates\": \"Population\"}\n",
    ")\n",
    "df_swiss_population"
   ]
  },
  {
   "cell_type": "markdown",
   "metadata": {},
   "source": [
    "## Manipulate dataframe"
   ]
  },
  {
   "cell_type": "markdown",
   "metadata": {},
   "source": [
    "Then I want to merge the two dataframe :\n",
    "\n",
    "\n",
    "> **_Note_** : This manipulation reset index, but it possible manually (after .loc p.ex.)by using : ``df_data = df_data.reset_index()``"
   ]
  },
  {
   "cell_type": "code",
   "execution_count": null,
   "metadata": {},
   "outputs": [],
   "source": [
    "# Join the data from the two table, only the values present in the two column !\n",
    "## With function of pandas\n",
    "df_swiss_data_inner_join = pd.merge(\n",
    "    df_swiss_population,\n",
    "    df_swiss_electricity_generation,\n",
    "    on=[\"Year\", \"Entity\", \"Code\"],\n",
    "    how=\"inner\",\n",
    ")\n",
    "## With methode of the df (linked to variable/object)\n",
    "df_inner_join_simpler = df_swiss_population.merge(\n",
    "    df_swiss_electricity_generation, on=[\"Year\", \"Entity\", \"Code\"], how=\"inner\"\n",
    ")\n",
    "df_swiss_data_inner_join.loc[0:10]"
   ]
  },
  {
   "cell_type": "markdown",
   "metadata": {},
   "source": [
    "#### Other important part to manipulate"
   ]
  },
  {
   "cell_type": "markdown",
   "metadata": {},
   "source": [
    "To merge two df, we need a key, this is a column name present on the two df, exactly the same !\n",
    "- `on` = Define on wich **column** the dfs where merge (exactly same column's name need to be present on both), if parameter `on` is None this use the intersection of the two df\n",
    "- `how` = Define on wich **row** the dfs where merge (find the same key)\n",
    "  - `inner` = Default join, only save the key present in both df\n",
    "  - `left` = Save all the key of **left**'s df, and complete with right information (when it's possible, be carefull, you will have some `NaN` value)\n",
    "  - `outer` = Save all the key of both df, also have `NaN` value"
   ]
  },
  {
   "cell_type": "markdown",
   "metadata": {},
   "source": [
    "If the structure between the df is **exactly** the same, you can use `concat` function, be carefull with index, not reinit :"
   ]
  },
  {
   "cell_type": "code",
   "execution_count": null,
   "metadata": {},
   "outputs": [],
   "source": [
    "df_concat = pd.concat([df_inner_join_simpler, df_swiss_data_inner_join])\n",
    "df_concat"
   ]
  },
  {
   "cell_type": "markdown",
   "metadata": {},
   "source": [
    "To add information after, use the `append` method : `df1.append(df2)`"
   ]
  },
  {
   "cell_type": "markdown",
   "metadata": {},
   "source": [
    "##### NaN (NaT,...) value"
   ]
  },
  {
   "cell_type": "markdown",
   "metadata": {},
   "source": [
    "This value is a problem when you manipulate data.\n",
    "\n",
    "It's possible to solve the problem with various method :\n",
    "- Complete with constant value - `df=df.fillna(1)` \n",
    "  - Replace by the integer 1 if you have time series, that doesn't work, use p.ex. : `df[\"time\"].fillna(pd.Timestamp(\"20221225\"))`\n",
    "- Remove value - `df.dropna()`\n",
    "  - Remove row (parameter `axis = 0`) or column (parameter `axis = 1`) with `NaN`, by default `axis = o`\n",
    "- Interpolate value - `df=df.interpolate()`\n",
    "  - Fill with midpoint between the two cells"
   ]
  },
  {
   "cell_type": "markdown",
   "metadata": {},
   "source": [
    "## Visualisation of the data"
   ]
  },
  {
   "cell_type": "markdown",
   "metadata": {},
   "source": [
    "Now I would like to visualize the evolution of the electricity generation per capita over the time :"
   ]
  },
  {
   "cell_type": "code",
   "execution_count": null,
   "metadata": {},
   "outputs": [],
   "source": [
    "# The basic ways to do that\n",
    "\n",
    "# Before need to create the empty column\n",
    "nb_line = df_swiss_data_inner_join.shape[0]\n",
    "df_swiss_data_inner_join[\"Production per capita - kWh\"] = np.zeros(nb_line)\n",
    "# Range because int is not iterable (create a sequence of number)\n",
    "for i in range(df_swiss_data_inner_join.shape[0]):\n",
    "    df_swiss_data_inner_join.loc[i, \"Production per capita - kWh\"] = (\n",
    "        df_swiss_data_inner_join.loc[i, \"Electricity generation - TWh\"]\n",
    "        / df_swiss_data_inner_join.loc[i, \"Population\"]\n",
    "        * 1e9\n",
    "    )"
   ]
  },
  {
   "cell_type": "markdown",
   "metadata": {},
   "source": [
    "The second method *__and simply__* method to do that"
   ]
  },
  {
   "cell_type": "code",
   "execution_count": null,
   "metadata": {},
   "outputs": [],
   "source": [
    "df_swiss_data_inner_join[\"Production per capita 2e method - kWh\"] = (\n",
    "    df_swiss_data_inner_join[\"Electricity generation - TWh\"]\n",
    "    / df_swiss_data_inner_join[\"Population\"]\n",
    "    * 1e9\n",
    ")"
   ]
  },
  {
   "cell_type": "markdown",
   "metadata": {},
   "source": [
    "#### Another ways to do that"
   ]
  },
  {
   "cell_type": "markdown",
   "metadata": {},
   "source": [
    "The power of apply plus lambda function is his simplicity, we can apply a function (lambda) to multiple row in one line of code. (Small comparison of using or not [lambda](https://www.geeksforgeeks.org/python-lambda-anonymous-functions-filter-map-reduce/#:~:text=With%20lambda%20function,Without%20lambda%20function) function)\n",
    "\n"
   ]
  },
  {
   "cell_type": "code",
   "execution_count": null,
   "metadata": {},
   "outputs": [],
   "source": [
    "df_swiss_data_inner_join[\"Production per capita 3e method - kWh\"] = (\n",
    "    df_swiss_data_inner_join.apply(\n",
    "        lambda row: row[\"Electricity generation - TWh\"] / row[\"Population\"] * 1e9,\n",
    "        axis=1,\n",
    "    )\n",
    ")"
   ]
  },
  {
   "cell_type": "markdown",
   "metadata": {},
   "source": [
    "It also possible to add a condition with an if function.\n",
    "I would like to know if the production per capita of this year is upper than the global average."
   ]
  },
  {
   "cell_type": "code",
   "execution_count": null,
   "metadata": {},
   "outputs": [],
   "source": [
    "mean_production_per_capita = df_swiss_data_inner_join[\n",
    "    \"Production per capita - kWh\"\n",
    "].mean()\n",
    "df_swiss_data_inner_join[\"Per Capita Up than mean\"] = df_swiss_data_inner_join.apply(\n",
    "    lambda row: (\n",
    "        \"Yes\"\n",
    "        if row[\"Production per capita - kWh\"] > mean_production_per_capita\n",
    "        else \"No\"\n",
    "    ),\n",
    "    axis=1,\n",
    ")"
   ]
  },
  {
   "cell_type": "markdown",
   "metadata": {},
   "source": [
    "#### Compare the three methods"
   ]
  },
  {
   "cell_type": "markdown",
   "metadata": {},
   "source": [
    "If we only multiply column, the second method is the simplest."
   ]
  },
  {
   "cell_type": "code",
   "execution_count": null,
   "metadata": {},
   "outputs": [],
   "source": [
    "df_swiss_data_inner_join[\n",
    "    [\n",
    "        \"Year\",\n",
    "        \"Production per capita - kWh\",\n",
    "        \"Production per capita 2e method - kWh\",\n",
    "        \"Production per capita 3e method - kWh\",\n",
    "    ]\n",
    "].loc[0:4]"
   ]
  },
  {
   "cell_type": "markdown",
   "metadata": {},
   "source": [
    "#### Clean dataframe\n"
   ]
  },
  {
   "cell_type": "markdown",
   "metadata": {},
   "source": [
    "Like we can see, the dataframe can have a lots informations inside, it's possible to remove certain column, or just print the part you want."
   ]
  },
  {
   "cell_type": "code",
   "execution_count": null,
   "metadata": {},
   "outputs": [],
   "source": [
    "# One way to remove unwanted column\n",
    "df_swiss_data_clean = df_swiss_data_inner_join.drop(\n",
    "    columns=[\n",
    "        \"Entity\",\n",
    "        \"Code\",\n",
    "        \"Production per capita 2e method - kWh\",\n",
    "        \"Production per capita 3e method - kWh\",\n",
    "    ]\n",
    ")"
   ]
  },
  {
   "cell_type": "markdown",
   "metadata": {},
   "source": [
    "### Plot information"
   ]
  },
  {
   "cell_type": "markdown",
   "metadata": {},
   "source": [
    "Now I would like to visualize the Population and the production per capita over time"
   ]
  },
  {
   "cell_type": "code",
   "execution_count": null,
   "metadata": {},
   "outputs": [],
   "source": [
    "# Create a subplot to add a secondary Y axis\n",
    "subfig = make_subplots(specs=[[{\"secondary_y\": True}]])\n",
    "# Create the line plot\n",
    "# fig=px.line(df_swiss_data_clean, x=\"Year\",y=[\"Population\",\"Production per capita - kWh\"], title=\"Production per capita and population evolution in Switzerland\", labels={\"Population\":\"Population\",\"Year\":\"Year\"})\n",
    "fig = px.line(\n",
    "    df_swiss_data_clean,\n",
    "    x=\"Year\",\n",
    "    y=\"Production per capita - kWh\",\n",
    "    title=\"Production per capita and population evolution in Switzerland\",\n",
    "    labels={\"Population\": \"Population\", \"Year\": \"Year\"},\n",
    ")\n",
    "fig2 = px.line(\n",
    "    df_swiss_data_clean,\n",
    "    x=\"Year\",\n",
    "    y=\"Population\",\n",
    "    title=\"Production per capita and population evolution in Switzerland\",\n",
    "    labels={\"Population\": \"Population\", \"Year\": \"Year\"},\n",
    ")\n",
    "fig2.update_traces(yaxis=\"y2\")\n",
    "subfig.add_traces(fig.data + fig2.data)\n",
    "# To format figure\n",
    "subfig.update_layout(margin=dict(l=60, r=60, t=60, b=60), width=800, height=500)\n",
    "\n",
    "subfig.layout.xaxis.title = \"Time\"\n",
    "subfig.layout.yaxis.title = \"Production per capita - kWh\"\n",
    "subfig.layout.yaxis2.title = \"Population\"\n",
    "# Show plot\n",
    "subfig.for_each_trace(\n",
    "    lambda t: t.update(line=dict(color=t.marker.color))\n",
    ")  # Change color of each line on the plot\n",
    "subfig.show()"
   ]
  },
  {
   "cell_type": "markdown",
   "metadata": {},
   "source": [
    "#### Chat GPT solution"
   ]
  },
  {
   "cell_type": "code",
   "execution_count": null,
   "metadata": {},
   "outputs": [],
   "source": [
    "import plotly.express as px\n",
    "import plotly.graph_objects as go\n",
    "\n",
    "# Assuming your dataframe is named df_swiss_data_inner_join\n",
    "fig = px.line(\n",
    "    df_swiss_data_inner_join,\n",
    "    x=\"Year\",\n",
    "    y=\"Population\",\n",
    "    title=\"Population and Production per Capita Over Time\",\n",
    ")\n",
    "\n",
    "# Add the secondary y-axis\n",
    "fig.add_trace(\n",
    "    go.Scatter(\n",
    "        x=df_swiss_data_inner_join[\"Year\"],\n",
    "        y=df_swiss_data_inner_join[\"Production per capita - kWh\"],\n",
    "        mode=\"lines\",\n",
    "        name=\"Production per capita - kWh\",\n",
    "        yaxis=\"y2\",\n",
    "    )\n",
    ")\n",
    "\n",
    "# Update layout to add a second y-axis\n",
    "fig.update_layout(\n",
    "    yaxis2=dict(title=\"Production per capita - kWh\", overlaying=\"y\", side=\"right\"),\n",
    "    yaxis=dict(title=\"Population\"),\n",
    "    xaxis=dict(title=\"Year\"),\n",
    "    legend=dict(x=0.1, y=0.9),\n",
    "    margin=dict(l=60, r=60, t=60, b=60),\n",
    "    width=800,\n",
    "    height=500,\n",
    ")\n",
    "\n",
    "# Display the plot\n",
    "fig.show()"
   ]
  },
  {
   "cell_type": "markdown",
   "metadata": {},
   "source": [
    "### Dictionnary of dataframe\n",
    "Pandapower make dictionnary of dataframe, here an exemple of that:"
   ]
  },
  {
   "cell_type": "code",
   "execution_count": null,
   "metadata": {},
   "outputs": [],
   "source": [
    "df1 = pd.DataFrame({\"Name\": [\"Shahroz\", \"Samad\", \"Usama\"], \"Age\": [22, 35, 58]})\n",
    "\n",
    "df2 = pd.DataFrame(\n",
    "    {\"Class\": [\"Chemistry\", \"Physics\", \"Biology\"], \"Students\": [30, 35, 40]}\n",
    ")\n",
    "\n",
    "# list of data frames\n",
    "dataframes = [df1, df2]\n",
    "\n",
    "# dictionary to save data frames\n",
    "frames = {}\n",
    "\n",
    "for key, value in enumerate(dataframes):\n",
    "    frames[key] = value  # assigning data frame from list to key in dictionary\n",
    "    print(\"key: \", key)\n",
    "    print(frames[key], \"\\n\")\n",
    "\n",
    "# access to one data frame by key\n",
    "print(\"Accessing the dataframe against key 0 \\n\", end=\"\")\n",
    "print(frames[0])\n",
    "\n",
    "# access to only column of specific data frame through dictionary\n",
    "print(\"\\nAccessing the first column of dataframe against key 1\\n\", end=\"\")\n",
    "print(frames[1][\"Class\"])"
   ]
  },
  {
   "cell_type": "markdown",
   "metadata": {},
   "source": [
    "# Pandapower"
   ]
  },
  {
   "cell_type": "code",
   "execution_count": null,
   "metadata": {},
   "outputs": [],
   "source": [
    "import pandapower as pp"
   ]
  },
  {
   "cell_type": "markdown",
   "metadata": {},
   "source": [
    "Tuto on _Exercice Power flow 1 : Problème 1_\n",
    "\n",
    "We use the librarie pandapower : [doc_pandapower](https://pandapower.readthedocs.io/en/v2.9.0/about.html)\n",
    "\n",
    "![Problem base](plot/Ex_PF1_Pb1_Info_p.png)"
   ]
  },
  {
   "cell_type": "markdown",
   "metadata": {},
   "source": [
    "Initialize the network by creating an empty network."
   ]
  },
  {
   "cell_type": "code",
   "execution_count": null,
   "metadata": {},
   "outputs": [],
   "source": [
    "net_ExPF1_Pb1\n"
   ]
  },
  {
   "cell_type": "markdown",
   "metadata": {},
   "source": [
    "Create all the bus"
   ]
  },
  {
   "cell_type": "code",
   "execution_count": null,
   "metadata": {},
   "outputs": [],
   "source": [
    "# create buses\n",
    "b1\n",
    "b2\n",
    "b3\n",
    "b4\n",
    "b5"
   ]
  },
  {
   "cell_type": "markdown",
   "metadata": {},
   "source": [
    "Create all the loads"
   ]
  },
  {
   "cell_type": "code",
   "execution_count": null,
   "metadata": {},
   "outputs": [],
   "source": [
    "# create load\n",
    "load_2\n",
    "load_3"
   ]
  },
  {
   "cell_type": "markdown",
   "metadata": {},
   "source": [
    "Create all the generator and the slack bus"
   ]
  },
  {
   "cell_type": "code",
   "execution_count": null,
   "metadata": {},
   "outputs": [],
   "source": [
    "# create generator (external grid as generator to slack bus)\n",
    "gen_1\n",
    "# Generator 2\n",
    "gen_2\n",
    "# Generator 5\n",
    "gen_5"
   ]
  },
  {
   "cell_type": "markdown",
   "metadata": {},
   "source": [
    "Create custom transformer, pure inductor."
   ]
  },
  {
   "cell_type": "code",
   "execution_count": null,
   "metadata": {},
   "outputs": [],
   "source": [
    "# create transformer\n",
    "trafo"
   ]
  },
  {
   "cell_type": "markdown",
   "metadata": {},
   "source": [
    "Calcul line parameter in correct units, transform from pu.\n",
    "\n",
    "Define the base"
   ]
  },
  {
   "cell_type": "code",
   "execution_count": null,
   "metadata": {},
   "outputs": [],
   "source": [
    "S_base = \n",
    "U_base = \n",
    "Z_base =\n",
    "Y_base =\n",
    "#Dictionnary value ligne\n",
    "# R_pu [0.02, 0.02, 0.02, 0.04, 0.04] \n",
    "# X_pu [0.2, 0.4, 0.4, 0.4, 0.4]\n",
    "# B_pu [0.8, 0.8, 0.4, 0.4, 0.4]\n",
    "# Un [400, 400, 400, 400, 400]\n",
    "\n",
    "Ligne_value =\n",
    "# Create dataframe with index [\"A\", \"B\", \"C\", \"D\", \"E\"]\n",
    "DF_Ligne = pd.DataFrame(dict, index)"
   ]
  },
  {
   "cell_type": "markdown",
   "metadata": {},
   "source": [
    "Calcul the parameters"
   ]
  },
  {
   "cell_type": "code",
   "execution_count": null,
   "metadata": {},
   "outputs": [],
   "source": [
    "rl_ohm_per_km = \n",
    "xl_ohm_per_km = \n",
    "cl_nF_per_km =\n",
    "print(\"Line resistance :\\n\", rl_ohm_per_km)\n",
    "print(\"Line impedance :\\n\", xl_ohm_per_km)\n",
    "print(\"Line capacitance :\\n\", cl_nF_per_km)\n"
   ]
  },
  {
   "cell_type": "markdown",
   "metadata": {},
   "source": [
    "Create the lines with parameters"
   ]
  },
  {
   "cell_type": "code",
   "execution_count": null,
   "metadata": {},
   "outputs": [],
   "source": [
    "# create line\n",
    "line_a\n",
    "line_b\n",
    "line_c\n",
    "line_d\n",
    "line_e"
   ]
  },
  {
   "cell_type": "markdown",
   "metadata": {},
   "source": [
    "Check line"
   ]
  },
  {
   "cell_type": "code",
   "execution_count": null,
   "metadata": {},
   "outputs": [],
   "source": []
  },
  {
   "cell_type": "markdown",
   "metadata": {},
   "source": [
    "Check trafo"
   ]
  },
  {
   "cell_type": "code",
   "execution_count": null,
   "metadata": {},
   "outputs": [],
   "source": []
  },
  {
   "cell_type": "markdown",
   "metadata": {},
   "source": [
    "By default, we run a powerflow with NR :\n",
    "- `nr` Newton-Raphson (pypower implementation with numba accelerations)\n",
    "- `gs` gauss-seidel (pypower implementation)\n",
    "- `fdbx` fast-decoupled (pypower implementation)"
   ]
  },
  {
   "cell_type": "code",
   "execution_count": null,
   "metadata": {},
   "outputs": [],
   "source": [
    "# Run\n",
    "pp.runpp(net_ExPF1_Pb1)\n",
    "# Check the result\n",
    "net_ExPF1_Pb1"
   ]
  },
  {
   "cell_type": "markdown",
   "metadata": {},
   "source": [
    "Check all the result"
   ]
  },
  {
   "cell_type": "code",
   "execution_count": null,
   "metadata": {},
   "outputs": [],
   "source": [
    "# res_bus"
   ]
  },
  {
   "cell_type": "code",
   "execution_count": null,
   "metadata": {},
   "outputs": [],
   "source": [
    "# res_line"
   ]
  },
  {
   "cell_type": "code",
   "execution_count": null,
   "metadata": {},
   "outputs": [],
   "source": [
    "# res_gen"
   ]
  },
  {
   "cell_type": "code",
   "execution_count": null,
   "metadata": {},
   "outputs": [],
   "source": [
    "# res_ext_grid"
   ]
  },
  {
   "cell_type": "markdown",
   "metadata": {},
   "source": [
    "To show the admitance matrix :"
   ]
  },
  {
   "cell_type": "code",
   "execution_count": null,
   "metadata": {},
   "outputs": [],
   "source": [
    "# Need to be checked !\n",
    "pd.DataFrame(net_ExPF1_Pb1._ppc[\"internal\"][\"Ybus\"].toarray()).round(1)"
   ]
  },
  {
   "cell_type": "markdown",
   "metadata": {},
   "source": [
    "## Same exercise with the **panda**power_heig_ui librairie"
   ]
  },
  {
   "cell_type": "markdown",
   "metadata": {},
   "source": [
    "This package is based on the pandaPower library. It has been developed to help students using simple functions in order to create simple power system models.\n",
    "- **panda**power_heig_ui's [documentation](https://heig-vd-ie.github.io/pandapower-heig-ui/)."
   ]
  },
  {
   "cell_type": "code",
   "execution_count": null,
   "metadata": {},
   "outputs": [],
   "source": [
    "import pp_heig_simulation as pp_sim\n",
    "import pp_heig_plot as pp_plot"
   ]
  },
  {
   "cell_type": "markdown",
   "metadata": {},
   "source": [
    "At the first, we complete the excel file : *net_ex_pf_1_pb_1.xlsx*\n",
    "Then we load data in **panda**power format :"
   ]
  },
  {
   "cell_type": "code",
   "execution_count": null,
   "metadata": {},
   "outputs": [],
   "source": [
    "file_path = #excel file path\n",
    "net_ExPF1_Pb1_heig = #load the network from the excel file"
   ]
  },
  {
   "cell_type": "markdown",
   "metadata": {},
   "source": [
    "Check net well load :"
   ]
  },
  {
   "cell_type": "code",
   "execution_count": null,
   "metadata": {},
   "outputs": [],
   "source": [
    "# check network"
   ]
  },
  {
   "cell_type": "markdown",
   "metadata": {},
   "source": [
    "In excel, we can't create an external grid as a generator, so let's modify it manualy :"
   ]
  },
  {
   "cell_type": "code",
   "execution_count": null,
   "metadata": {},
   "outputs": [],
   "source": [
    "# Add the min and max reactive power to external grid"
   ]
  },
  {
   "cell_type": "code",
   "execution_count": null,
   "metadata": {},
   "outputs": [],
   "source": [
    "# Check if added"
   ]
  },
  {
   "cell_type": "markdown",
   "metadata": {},
   "source": [
    "Same for generator, in excel, we only create static generator (PQ), so we need to create generator (PV)"
   ]
  },
  {
   "cell_type": "code",
   "execution_count": null,
   "metadata": {},
   "outputs": [],
   "source": [
    "# Index gen same ways as before, don't need output\n",
    "# Gen 2\n",
    "\n",
    "# Gen 5"
   ]
  },
  {
   "cell_type": "markdown",
   "metadata": {},
   "source": [
    "Check if that works :"
   ]
  },
  {
   "cell_type": "code",
   "execution_count": null,
   "metadata": {},
   "outputs": [],
   "source": [
    "# Check if generator is aded"
   ]
  },
  {
   "cell_type": "code",
   "execution_count": null,
   "metadata": {},
   "outputs": [],
   "source": [
    "# Check gen value"
   ]
  },
  {
   "cell_type": "markdown",
   "metadata": {},
   "source": [
    "With this package, we can plot the grid :"
   ]
  },
  {
   "cell_type": "code",
   "execution_count": null,
   "metadata": {},
   "outputs": [],
   "source": [
    "# Plot powernetwork"
   ]
  },
  {
   "cell_type": "markdown",
   "metadata": {},
   "source": [
    "And simulate the powerflow"
   ]
  },
  {
   "cell_type": "code",
   "execution_count": null,
   "metadata": {},
   "outputs": [],
   "source": [
    "# Run powerflow"
   ]
  },
  {
   "cell_type": "markdown",
   "metadata": {},
   "source": [
    "Check the result between the two methods :"
   ]
  },
  {
   "cell_type": "code",
   "execution_count": null,
   "metadata": {},
   "outputs": [],
   "source": [
    "# The two net -> net_ExPF1_Pb1_heig and net_ExPF1_Pb1\n",
    "# res_line\n",
    "\n",
    "# res_trafo\n",
    "\n",
    "# res_ext_grid\n",
    "\n",
    "# res_load\n",
    "\n",
    "# res_gen"
   ]
  },
  {
   "cell_type": "code",
   "execution_count": null,
   "metadata": {},
   "outputs": [],
   "source": [
    "print(\"Line result :\\n\", Result)\n",
    "print(\"Bus result :\\n\", Result)\n",
    "print(\"Trafo result :\\n\", Result)\n",
    "print(\"Ext grid result :\\n\", Result)\n",
    "print(\"Load result :\\n\", Result)\n",
    "print(\"Gen result :\\n\", Result)"
   ]
  },
  {
   "cell_type": "code",
   "execution_count": null,
   "metadata": {},
   "outputs": [],
   "source": [
    "# Plot plot_powerflow_result\n",
    "\n",
    "# Show res_bus"
   ]
  },
  {
   "cell_type": "markdown",
   "metadata": {},
   "source": [
    "# Annexe"
   ]
  },
  {
   "cell_type": "markdown",
   "metadata": {},
   "source": [
    "### Tuto for _Compute admitance matrix_ part"
   ]
  },
  {
   "cell_type": "code",
   "execution_count": null,
   "metadata": {},
   "outputs": [],
   "source": [
    "# Create dictionnary with values\n",
    "data = {\"Resistance\": range(10, 101, 10), \"line\": range(0, 10, 1)}\n",
    "\n",
    "# Create dataframe with the dict\n",
    "resistance_DF = pd.DataFrame(data)\n",
    "print(resistance_DF)\n",
    "tension = 5\n",
    "\n",
    "# Randomize order of the row\n",
    "resistance_DF_rand = resistance_DF.sample(frac=1)\n",
    "print(resistance_DF_rand)\n",
    "nb_line = resistance_DF.shape[0]\n",
    "\n",
    "current = np.zeros(nb_line)\n",
    "for i in range(nb_line):\n",
    "    line_number = resistance_DF_rand.at[i, \"line\"]\n",
    "    current[line_number] = tension / resistance_DF_rand.at[line_number, \"Resistance\"]\n",
    "current_DataFrame = pd.DataFrame({\"Current\": current})\n",
    "print(current_DataFrame)"
   ]
  },
  {
   "cell_type": "code",
   "execution_count": null,
   "metadata": {},
   "outputs": [],
   "source": []
  }
 ],
 "metadata": {
  "kernelspec": {
   "display_name": ".venv",
   "language": "python",
   "name": "python3"
  },
  "language_info": {
   "codemirror_mode": {
    "name": "ipython",
    "version": 3
   },
   "file_extension": ".py",
   "mimetype": "text/x-python",
   "name": "python",
   "nbconvert_exporter": "python",
   "pygments_lexer": "ipython3",
   "version": "3.10.12"
  }
 },
 "nbformat": 4,
 "nbformat_minor": 2
}
